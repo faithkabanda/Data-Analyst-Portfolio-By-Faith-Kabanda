{
 "cells": [
  {
   "cell_type": "code",
   "execution_count": 1,
   "id": "c09c4b85",
   "metadata": {},
   "outputs": [
    {
     "data": {
      "text/plain": [
       "['.ipynb_checkpoints',\n",
       " 'Consolidator For Gweru Dataset .ipynb',\n",
       " 'Datafiles',\n",
       " 'Outputs']"
      ]
     },
     "execution_count": 1,
     "metadata": {},
     "output_type": "execute_result"
    }
   ],
   "source": [
    "import pandas as pd\n",
    "import openpyxl\n",
    "import os\n",
    "import numpy as np\n",
    "import warnings\n",
    "warnings.filterwarnings('ignore')\n",
    "os.listdir()"
   ]
  },
  {
   "cell_type": "code",
   "execution_count": 2,
   "id": "007f83a4",
   "metadata": {},
   "outputs": [],
   "source": [
    "datadir=\"Datafiles\"\n",
    "os.chdir(datadir)"
   ]
  },
  {
   "cell_type": "code",
   "execution_count": 3,
   "id": "2e4975bd",
   "metadata": {},
   "outputs": [
    {
     "data": {
      "text/plain": [
       "['Account Report - Gweru Mon 29 08 2022.xlsx',\n",
       " 'Expense Report -  Gweru Mon 29 08 2022.xlsx',\n",
       " 'Income Report -  Gweru Mon 29 08 2022.xlsx',\n",
       " 'Loan Given Report -  Gweru Mon 29 08 2022.xlsx',\n",
       " 'Loan Taken Report -  Gweru Mon 29 08 2022.xlsx']"
      ]
     },
     "execution_count": 3,
     "metadata": {},
     "output_type": "execute_result"
    }
   ],
   "source": [
    "os.listdir()"
   ]
  },
  {
   "cell_type": "markdown",
   "id": "b4cb27d1",
   "metadata": {},
   "source": [
    "####  Reading the income reports"
   ]
  },
  {
   "cell_type": "code",
   "execution_count": 4,
   "id": "e44d26fe",
   "metadata": {},
   "outputs": [],
   "source": [
    "\n",
    "income_reports=[] ### To create an empty dataframe where we can append our income reports data \n",
    "data =pd.read_excel('Income Report -  Gweru Mon 29 08 2022.xlsx', sheet_name =2) ### Reading the files to pandas\n",
    "\n",
    "## Converting the uppercases to lower cases and replacing spaces with underscores(_) on each variable name(s)\n",
    "\n",
    "data.columns=data.columns.str.replace(' ','_') \n",
    "\n",
    "data.columns=data.columns.str.lower()\n",
    "\n",
    "data['file']='income'# Adding a file variable so as to distinquish various types for reports\n",
    "\n",
    "## Selecting the variables of interest in the dataset data\n",
    "data1 = data[['respondent_id',  'city_of_residence',\n",
    "       'citizenship', 'income_report_data_id',\n",
    "       'income_report_income_source_name', 'income_report_amount',\n",
    "       'income_report_currency',\n",
    "       'income_report_date_received', 'income_report_account',\n",
    "       'income_report_account_report_id', 'income_report_surveyor',\n",
    "       'income_report_customer', 'income_report_timeline',\n",
    "       'income_report_transaction_type', 'income_report_payment_type',\n",
    "       'income_report_date_created', 'income_report_last_updated',\n",
    "       'income_report_edit_count', 'income_report_description', 'file']].copy()\n",
    "\n",
    "\n",
    "    # Renaming the variables names\n",
    "data1=data1.rename(columns={\n",
    "                        'income_report_data_id':'data_id',\n",
    "                        'income_report_amount':'amount',\n",
    "                        'income_report_currency':'currency',\n",
    "                        'income_report_income_source_name':'reason_name',\n",
    "                        'income_report_account':'account',\n",
    "                        'income_report_date_received':'transaction_date',\n",
    "                         'income_report_account_report_id':'transaction_id',\n",
    "                        'income_report_transaction_type':'transaction_type',\n",
    "                        'income_report_timeline':'timeline',\n",
    "                        'income_report_payment_type':'payment_type',\n",
    "                        'income_report_date_created':'date_created',\n",
    "                        'income_report_last_updated':'date_last_updated',\n",
    "                        'income_report_edit_count':'edit_count',\n",
    "                        'income_report_surveyor':'surveyor',\n",
    "                        'income_report_customer':'tool',\n",
    "                        'income_report_description':'description'})\n",
    "\n",
    "income_reports.append(data1)\n",
    "income_reports=pd.concat(income_reports)## joining the data into the initialized empty data frame income_reports"
   ]
  },
  {
   "cell_type": "markdown",
   "id": "5f2b65b2",
   "metadata": {},
   "source": [
    "### Reading the expense reports"
   ]
  },
  {
   "cell_type": "code",
   "execution_count": 5,
   "id": "2ef12932",
   "metadata": {},
   "outputs": [],
   "source": [
    "expense_reports=[]\n",
    "data =pd.read_excel('Expense Report -  Gweru Mon 29 08 2022.xlsx', sheet_name =2)\n",
    "data.columns=data.columns.str.replace(' ','_')\n",
    "\n",
    "data.columns=data.columns.str.lower()\n",
    "data['file']='expense'\n",
    "data1=data[['respondent_id', 'city_of_residence',\n",
    "       'citizenship', 'expense_report_data_id', 'expense_report_reason',\n",
    "        'expense_report_amount','expense_report_currency',\n",
    "        'expense_report_date',\n",
    "       'expense_report_account', 'expense_report_account_report_id',\n",
    "       'expense_report_surveyor', 'expense_report_vendor',\n",
    "       'expense_report_timeline', 'expense_report_transaction_type',\n",
    "       'expense_report_payment_type', 'expense_report_date_created',\n",
    "       'expense_report_last_updated', 'expense_report_edit_count',\n",
    "       'expense_report_description', 'file']].copy()\n",
    "data1=data1.rename(columns={'expense_report_account_report_id':'transaction_id',\n",
    "                            'expense_report_data_id':'data_id',\n",
    "                        'expense_report_amount': 'amount',\n",
    "                        'expense_report_currency':'currency',\n",
    "                        'expense_report_reason':'reason_name',\n",
    "                        'expense_report_account':'account',\n",
    "                        'expense_report_date':'transaction_date',\n",
    "                        'expense_report_transaction_type':'transaction_type',\n",
    "                        'expense_report_timeline':'timeline',\n",
    "                        'expense_report_payment_type':'payment_type',\n",
    "                        'expense_report_date_created':'date_created',\n",
    "                            'expense_report_last_updated':'date_last_updated',\n",
    "                        'expense_report_edit_count':'edit_count',\n",
    "                        \n",
    "                        'expense_report_surveyor':'surveyor',\n",
    "                        'expense_report_vendor':'tool',\n",
    "                        'expense_report_description':'description'})\n",
    "expense_reports.append(data1)\n",
    "expense_reports=pd.concat(expense_reports)\n",
    "                        "
   ]
  },
  {
   "cell_type": "markdown",
   "id": "db7ae768",
   "metadata": {},
   "source": [
    "### Reading the account reports"
   ]
  },
  {
   "cell_type": "code",
   "execution_count": 6,
   "id": "0f2cd74c",
   "metadata": {},
   "outputs": [],
   "source": [
    "accounts_reports=[]\n",
    "data =pd.read_excel('Account Report - Gweru Mon 29 08 2022.xlsx', sheet_name =2)\n",
    "data.columns=data.columns.str.replace(' ','_')\n",
    "\n",
    "data.columns=data.columns.str.lower()\n",
    "\n",
    "data['file']='Accounts'\n",
    "\n",
    "data1 = data[['respondent_id','city_of_residence',\n",
    "       'citizenship', 'account_report_data_id', 'account_report_account_name',\n",
    "       'account_report_deposit/withdrawal', 'account_report_amount',\n",
    "       'account_report_currency', 'account_report_date',\n",
    "       'account_report_data_type', 'account_report_surveyor',\n",
    "       'account_report_date_created', 'account_report_last_updated',\n",
    "       'account_report_edit_count', 'account_report_description','file']].copy()\n",
    "\n",
    "# # ###...................................................................................................\n",
    "data1=data1.rename(columns={\n",
    "                        'account_report_data_id':'data_id',\n",
    "                        'account_report_amount':'amount',\n",
    "                        'account_report_currency':'currency',\n",
    "                        'account_report_account_name':'account',\n",
    "                        'account_report_deposit/withdrawal':'reason_name',\n",
    "                        'account_report_date':'transaction_date',\n",
    "                        'account_report_data_type':'transaction_type',\n",
    "                        'account_report_date_created':'date_created',\n",
    "                        'account_report_last_updated':'date_last_updated',\n",
    "                        'account_report_edit_count':'edit_count',\n",
    "                        'account_report_surveyor':'surveyor',                \n",
    "                       \n",
    "                        'account_report_description':'description'})\n",
    "accounts_reports.append(data1)\n",
    "accounts_reports=pd.concat(accounts_reports)"
   ]
  },
  {
   "cell_type": "markdown",
   "id": "6d4998ba",
   "metadata": {},
   "source": [
    "### Loans taken "
   ]
  },
  {
   "cell_type": "code",
   "execution_count": 7,
   "id": "33d712a3",
   "metadata": {},
   "outputs": [],
   "source": [
    "loans_taken_data=[]\n",
    "\n",
    "    \n",
    "repayments = pd.read_excel('Loan Taken Report -  Gweru Mon 29 08 2022.xlsx',\n",
    "                    sheet_name = 'Loan Repayment Reports')\n",
    "repayments.columns=repayments.columns.str.replace(' ','_')\n",
    "\n",
    "repayments.columns=repayments.columns.str.lower()\n",
    "\n",
    "repayments['file']='loans_taken_repayment'\n",
    "repayments1 = repayments[['respondent_id','city_of_residence',\n",
    "       'citizenship', 'loan_taken_repayment_report_data_id',\n",
    "       'loan_taken_repayment_report_source_name',\n",
    "       'loan_taken_repayment_report_repaid_amount',\n",
    "       'loan_taken_repayment_report_currency',\n",
    "       'loan_taken_repayment_report_date_paid',\n",
    "       'loan_taken_repayment_report_surveyor',\n",
    "       'loan_taken_repayment_report_account',\n",
    "       'loan_taken_repayment_report_account_report_id',\n",
    "       'loan_taken_repayment_report_date_created',\n",
    "       'loan_taken_repayment_report_last_updated',\n",
    "       'loan_taken_repayment_report_edit_count',\n",
    "  \n",
    "       'loan_taken_repayment_report_description','file']].copy()\n",
    "\n",
    "\n",
    "\n",
    "\n",
    "repayments1=repayments1.rename(columns={\n",
    "                                'loan_taken_repayment_report_data_id':'data_id',\n",
    "                                'loan_taken_repayment_report_repaid_amount':'amount',\n",
    "                                'loan_taken_repayment_report_currency':'currency',\n",
    "                                'loan_taken_repayment_report_source_name':'reason_name',\n",
    "                                \"loan_taken_repayment_report_account\":'account',\n",
    "                                'loan_taken_repayment_report_account_report_id':'transaction_id',\n",
    "                                'loan_taken_repayment_report_date_paid':'transaction_date',\n",
    "                                'loan_taken_repayment_report_date_created':'date_created',\n",
    "                                'loan_taken_repayment_report_last_updated':'date_last_updated',\n",
    "                                'loan_taken_repayment_report_edit_count':'edit_count',\n",
    "                                'loan_taken_repayment_report_description':'description',\n",
    "                                'loan_taken_repayment_report_surveyor':'surveyor'})\n",
    "\n",
    "\n",
    "loans_taken_data.append(repayments1)\n",
    "loans_taken_data = pd.concat(loans_taken_data)\n",
    "\n",
    "\n",
    "\n"
   ]
  },
  {
   "cell_type": "markdown",
   "id": "090371b9",
   "metadata": {},
   "source": [
    "### Loans given report"
   ]
  },
  {
   "cell_type": "code",
   "execution_count": 8,
   "id": "9f616c89",
   "metadata": {},
   "outputs": [],
   "source": [
    "loans_given_data=[]\n",
    "\n",
    "\n",
    "repayments = pd.read_excel('Loan Given Report -  Gweru Mon 29 08 2022.xlsx',\n",
    "                    sheet_name = 'Loan given repayments')\n",
    "repayments.columns=repayments.columns.str.replace(' ','_')\n",
    "\n",
    "repayments.columns=repayments.columns.str.lower()\n",
    "\n",
    "\n",
    "\n",
    "repayments['file']='loans_given_repayment'\n",
    "repayments1 = repayments[['respondent_id', 'country_of_residence',\n",
    "       'citizenship', 'loan_given_repayment_report_data_id',\n",
    "       'loan_given_repayment_report_source_name',\n",
    "       'loan_given_repayment_report_repaid_amount',\n",
    "       'loan_given_repayment_report_currency',\n",
    "       'loan_given_repayment_report_date',\n",
    "       'loan_given_repayment_report_surveyor',\n",
    "       'loan_given_repayment_report_account',\n",
    "       'loan_given_repayment_report_account_report_id',\n",
    "       'loan_given_repayment_report_date_created',\n",
    "       'loan_given_repayment_report_last_updated',\n",
    "       'loan_given_repayment_report_edit_count',\n",
    "       'loan_given_repayment_report_description',\n",
    "       'file']].copy()\n",
    "\n",
    "\n",
    "repayments1=repayments1.rename(columns={'loan_given_repayment_report_description':'description',\n",
    "                                'loan_given_repayment_report_data_id':'data_id',\n",
    "                                'loan_given_repayment_report_account_report_id':'transaction_id',\n",
    "                                'loan_given_repayment_report_repaid_amount':'amount',\n",
    "                                'loan_given_repayment_report_currency':'currency',\n",
    "                                'loan_given_repayment_report_source_name':'reason_name',\n",
    "                                \"loan_given_repayment_report_account\":'account',\n",
    "                                'loan_given_repayment_report_date':'transaction_date',\n",
    "                                'loan_given_repayment_report_date_created':'date_created',\n",
    "                                'loan_given_repayment_report_last_updated':'date_last_updated',\n",
    "                                'loan_given_repayment_report_edit_count':'edit_count',\n",
    "                                'loan_given_repayment_report_surveyor':'surveyor'})\n",
    "\n",
    "\n",
    "loans_given_data.append(repayments1)\n",
    "loans_given_data = pd.concat(loans_given_data)"
   ]
  },
  {
   "cell_type": "markdown",
   "id": "2ea534a7",
   "metadata": {},
   "source": [
    "### Data consolidation for the Mali corner shop"
   ]
  },
  {
   "cell_type": "code",
   "execution_count": 9,
   "id": "c2980666",
   "metadata": {},
   "outputs": [],
   "source": [
    "consolidated=income_reports.append([expense_reports,\n",
    "                                    accounts_reports,\n",
    "                                    loans_taken_data,       \n",
    "                                    loans_given_data],sort=False).copy()\n",
    "\n",
    "# consolidated.transaction_type = np.where((consolidated.file=='Accounts'),'cash',\n",
    "# #                             consolidated.transaction_type)\n",
    "consolidated.file = np.where((consolidated.file=='accounts') & \n",
    "(consolidated.reason_name=='Deposited'), 'savings_deposit', consolidated.file)\n",
    "consolidated.file = np.where((consolidated.file=='accounts') & \n",
    "(consolidated.reason_name=='Withdrawn'), 'savings_withdrawal', consolidated.file)\n"
   ]
  },
  {
   "cell_type": "code",
   "execution_count": 10,
   "id": "fb1b16f0",
   "metadata": {},
   "outputs": [
    {
     "data": {
      "text/plain": [
       "Index(['respondent_id', 'city_of_residence', 'citizenship', 'data_id',\n",
       "       'reason_name', 'amount', 'currency', 'transaction_date', 'account',\n",
       "       'transaction_id', 'surveyor', 'tool', 'timeline', 'transaction_type',\n",
       "       'payment_type', 'date_created', 'date_last_updated', 'edit_count',\n",
       "       'description', 'file', 'country_of_residence'],\n",
       "      dtype='object')"
      ]
     },
     "execution_count": 10,
     "metadata": {},
     "output_type": "execute_result"
    }
   ],
   "source": [
    "consolidated.columns"
   ]
  },
  {
   "cell_type": "code",
   "execution_count": 11,
   "id": "b76758b5",
   "metadata": {},
   "outputs": [],
   "source": [
    "consolidated.to_csv(\"../Outputs/Consolidated_Gweru.csv\")"
   ]
  },
  {
   "cell_type": "code",
   "execution_count": null,
   "id": "ceb0dc0a",
   "metadata": {},
   "outputs": [],
   "source": []
  }
 ],
 "metadata": {
  "kernelspec": {
   "display_name": "Python 3 (ipykernel)",
   "language": "python",
   "name": "python3"
  },
  "language_info": {
   "codemirror_mode": {
    "name": "ipython",
    "version": 3
   },
   "file_extension": ".py",
   "mimetype": "text/x-python",
   "name": "python",
   "nbconvert_exporter": "python",
   "pygments_lexer": "ipython3",
   "version": "3.9.12"
  }
 },
 "nbformat": 4,
 "nbformat_minor": 5
}
