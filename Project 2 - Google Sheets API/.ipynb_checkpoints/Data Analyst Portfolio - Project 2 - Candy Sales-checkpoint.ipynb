{
 "cells": [
  {
   "cell_type": "markdown",
   "id": "4724cef3",
   "metadata": {},
   "source": [
    "## Authentication\n",
    "\n",
    "#### 1. Enable API Project Access\n",
    "\n",
    "\n",
    "* Head to Google Developers Console website and create a new project (or select the one you already have). in this case Project name = DA Portfolio - P 2 Candy Sales\n",
    "\n",
    "\n",
    "* In Google Developers Console, go to Market Place, search for “Google Drive API” and enable it. Also search for “Google Sheets API” and enable it.\n",
    "\n",
    "\n",
    "* Then go to “APIs & Services > Credentials” and choose “Create credentials -> Service account key” -> Fill out the form. Click “Create” and “Done”.\n",
    "\n",
    "* Copy the generated email and keep it safely. In this case, we have candy-sales@da-portfolio-p-2-candy-sales.iam.gserviceaccount.com as our email.\n",
    "\n",
    "\n",
    "* Now on the Credentials page, press “Manage service accounts” above Service Accounts (3rd or so row on the screen). Press on ⋮(3 dots on the far right side) near recently created service account and select “Manage keys” and then click on “ADD KEY > Create new key”.\n",
    "\n",
    "\n",
    "* Select JSON key type and press “Create”.\n",
    "\n",
    "key:\n",
    "staff-training-faith-3802b0a3337b\n",
    "\n",
    "*  Wait for a dialogue box that will allow you to save the JSON file. Save the JSON file as credentials.json in the folder you are working on. Close the dialogue boxes when done. Key extracted = 3594287c617686a99feeb69c2eed6d27b3940167 \n",
    "\n"
   ]
  },
  {
   "cell_type": "code",
   "execution_count": 1,
   "id": "a61b270a",
   "metadata": {},
   "outputs": [],
   "source": [
    "import gspread\n",
    "import re\n",
    "from oauth2client.service_account import ServiceAccountCredentials\n",
    "scope = ['https://www.googleapis.com/auth/spreadsheets']\n",
    "creds = ServiceAccountCredentials.from_json_keyfile_name('credentials.json', scope)\n",
    "client = gspread.authorize(creds)"
   ]
  },
  {
   "cell_type": "code",
   "execution_count": 2,
   "id": "18914c31",
   "metadata": {},
   "outputs": [],
   "source": [
    "def sender(df,key,sheet):\n",
    "    df = df.fillna('NaN') # replaces #What is a def in Python ddef is the keyword for defining a function\n",
    "    wks = client.open_by_key(key)\n",
    "    sh = wks.worksheet(sheet)\n",
    "    sh.clear() # clears entire sheet\n",
    "    sh.update([df.columns.values.tolist()] + df.values.tolist())\n",
    "key = \"1VdhXKx0HHMtxWTmLS1wRv4Q7mSZK7WPaPW3VfUWyfxM\""
   ]
  },
  {
   "cell_type": "code",
   "execution_count": 3,
   "id": "49f301c3",
   "metadata": {},
   "outputs": [
    {
     "data": {
      "text/html": [
       "<div>\n",
       "<style scoped>\n",
       "    .dataframe tbody tr th:only-of-type {\n",
       "        vertical-align: middle;\n",
       "    }\n",
       "\n",
       "    .dataframe tbody tr th {\n",
       "        vertical-align: top;\n",
       "    }\n",
       "\n",
       "    .dataframe thead th {\n",
       "        text-align: right;\n",
       "    }\n",
       "</style>\n",
       "<table border=\"1\" class=\"dataframe\">\n",
       "  <thead>\n",
       "    <tr style=\"text-align: right;\">\n",
       "      <th></th>\n",
       "      <th>names</th>\n",
       "      <th>age</th>\n",
       "    </tr>\n",
       "  </thead>\n",
       "  <tbody>\n",
       "    <tr>\n",
       "      <th>0</th>\n",
       "      <td>Faith</td>\n",
       "      <td>23</td>\n",
       "    </tr>\n",
       "    <tr>\n",
       "      <th>1</th>\n",
       "      <td>Anna</td>\n",
       "      <td>40</td>\n",
       "    </tr>\n",
       "    <tr>\n",
       "      <th>2</th>\n",
       "      <td>Jack</td>\n",
       "      <td>29</td>\n",
       "    </tr>\n",
       "    <tr>\n",
       "      <th>3</th>\n",
       "      <td>Sara</td>\n",
       "      <td>34</td>\n",
       "    </tr>\n",
       "    <tr>\n",
       "      <th>4</th>\n",
       "      <td>Seth</td>\n",
       "      <td>19</td>\n",
       "    </tr>\n",
       "  </tbody>\n",
       "</table>\n",
       "</div>"
      ],
      "text/plain": [
       "   names  age\n",
       "0  Faith   23\n",
       "1   Anna   40\n",
       "2   Jack   29\n",
       "3   Sara   34\n",
       "4   Seth   19"
      ]
     },
     "execution_count": 3,
     "metadata": {},
     "output_type": "execute_result"
    }
   ],
   "source": [
    "import pandas as pd\n",
    "df = pd.DataFrame({\n",
    "    \"names\": [\"Faith\",\"Anna\", \"Jack\", \"Sara\", \"Seth\", \"Tim\"],\n",
    "    \"age\": [23, 40, 29, 34, 19, 100]\n",
    "})\n",
    "df.head()"
   ]
  },
  {
   "cell_type": "code",
   "execution_count": 5,
   "id": "220bd3f1",
   "metadata": {},
   "outputs": [],
   "source": [
    "#sender(df,key,\"Data\")"
   ]
  },
  {
   "cell_type": "code",
   "execution_count": null,
   "id": "5a37a663",
   "metadata": {},
   "outputs": [],
   "source": [
    "#extract xlsx file"
   ]
  }
 ],
 "metadata": {
  "kernelspec": {
   "display_name": "Python 3 (ipykernel)",
   "language": "python",
   "name": "python3"
  },
  "language_info": {
   "codemirror_mode": {
    "name": "ipython",
    "version": 3
   },
   "file_extension": ".py",
   "mimetype": "text/x-python",
   "name": "python",
   "nbconvert_exporter": "python",
   "pygments_lexer": "ipython3",
   "version": "3.9.12"
  }
 },
 "nbformat": 4,
 "nbformat_minor": 5
}
