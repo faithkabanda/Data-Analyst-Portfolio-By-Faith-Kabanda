{
 "cells": [
  {
   "cell_type": "markdown",
   "id": "4724cef3",
   "metadata": {},
   "source": []
  }
 ],
 "metadata": {
  "kernelspec": {
   "display_name": "Python 3 (ipykernel)",
   "language": "python",
   "name": "python3"
  }
 },
 "nbformat": 4,
 "nbformat_minor": 5
}
